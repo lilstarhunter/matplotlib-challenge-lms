{
 "cells": [
  {
   "cell_type": "markdown",
   "metadata": {},
   "source": [
    "# Pymaceuticals Data Analysis Report\n",
    "### Completed by: Lauren Stein"
   ]
  },
  {
   "cell_type": "markdown",
   "metadata": {},
   "source": [
    "## Key Findings\n",
    "\n",
    "* Capomulin is one of the most effective drugs at reducing average tumor volume\n",
    "\n",
    "\n",
    "* Ramicane was just as effective at Capomulin at reducing tumor volume\n",
    "\n",
    "\n",
    "* Study was evenly split between male and female mice\n",
    "\n",
    "\n",
    "* There was a strong positive correlation between mouse body weight and average tumor volume in the Capomulin-treated group\n",
    "\n",
    "## Important Considerations\n",
    "\n",
    "* Tumor volume was not recorded for 45 days for all of the mice/drug regimens included in this analysis.\n",
    "\n",
    "\n",
    "* Age of the mice included in this analysis ranged from 1 month to 2 years. (Age was not controlled for)"
   ]
  },
  {
   "cell_type": "code",
   "execution_count": 25,
   "metadata": {
    "scrolled": true
   },
   "outputs": [
    {
     "data": {
      "text/html": [
       "<div>\n",
       "<style scoped>\n",
       "    .dataframe tbody tr th:only-of-type {\n",
       "        vertical-align: middle;\n",
       "    }\n",
       "\n",
       "    .dataframe tbody tr th {\n",
       "        vertical-align: top;\n",
       "    }\n",
       "\n",
       "    .dataframe thead th {\n",
       "        text-align: right;\n",
       "    }\n",
       "</style>\n",
       "<table border=\"1\" class=\"dataframe\">\n",
       "  <thead>\n",
       "    <tr style=\"text-align: right;\">\n",
       "      <th></th>\n",
       "      <th>Age_months</th>\n",
       "      <th>Weight (g)</th>\n",
       "      <th>Timepoint</th>\n",
       "      <th>Tumor Volume (mm3)</th>\n",
       "      <th>Metastatic Sites</th>\n",
       "    </tr>\n",
       "  </thead>\n",
       "  <tbody>\n",
       "    <tr>\n",
       "      <th>count</th>\n",
       "      <td>1893.000000</td>\n",
       "      <td>1893.000000</td>\n",
       "      <td>1893.000000</td>\n",
       "      <td>1893.000000</td>\n",
       "      <td>1893.000000</td>\n",
       "    </tr>\n",
       "    <tr>\n",
       "      <th>mean</th>\n",
       "      <td>12.814580</td>\n",
       "      <td>25.662441</td>\n",
       "      <td>19.572108</td>\n",
       "      <td>50.448381</td>\n",
       "      <td>1.021659</td>\n",
       "    </tr>\n",
       "    <tr>\n",
       "      <th>std</th>\n",
       "      <td>7.189592</td>\n",
       "      <td>3.921622</td>\n",
       "      <td>14.079460</td>\n",
       "      <td>8.894722</td>\n",
       "      <td>1.137974</td>\n",
       "    </tr>\n",
       "    <tr>\n",
       "      <th>min</th>\n",
       "      <td>1.000000</td>\n",
       "      <td>15.000000</td>\n",
       "      <td>0.000000</td>\n",
       "      <td>22.050126</td>\n",
       "      <td>0.000000</td>\n",
       "    </tr>\n",
       "    <tr>\n",
       "      <th>25%</th>\n",
       "      <td>7.000000</td>\n",
       "      <td>25.000000</td>\n",
       "      <td>5.000000</td>\n",
       "      <td>45.000000</td>\n",
       "      <td>0.000000</td>\n",
       "    </tr>\n",
       "    <tr>\n",
       "      <th>50%</th>\n",
       "      <td>13.000000</td>\n",
       "      <td>27.000000</td>\n",
       "      <td>20.000000</td>\n",
       "      <td>48.951474</td>\n",
       "      <td>1.000000</td>\n",
       "    </tr>\n",
       "    <tr>\n",
       "      <th>75%</th>\n",
       "      <td>20.000000</td>\n",
       "      <td>29.000000</td>\n",
       "      <td>30.000000</td>\n",
       "      <td>56.292200</td>\n",
       "      <td>2.000000</td>\n",
       "    </tr>\n",
       "    <tr>\n",
       "      <th>max</th>\n",
       "      <td>24.000000</td>\n",
       "      <td>30.000000</td>\n",
       "      <td>45.000000</td>\n",
       "      <td>78.567014</td>\n",
       "      <td>4.000000</td>\n",
       "    </tr>\n",
       "  </tbody>\n",
       "</table>\n",
       "</div>"
      ],
      "text/plain": [
       "        Age_months   Weight (g)    Timepoint  Tumor Volume (mm3)  \\\n",
       "count  1893.000000  1893.000000  1893.000000         1893.000000   \n",
       "mean     12.814580    25.662441    19.572108           50.448381   \n",
       "std       7.189592     3.921622    14.079460            8.894722   \n",
       "min       1.000000    15.000000     0.000000           22.050126   \n",
       "25%       7.000000    25.000000     5.000000           45.000000   \n",
       "50%      13.000000    27.000000    20.000000           48.951474   \n",
       "75%      20.000000    29.000000    30.000000           56.292200   \n",
       "max      24.000000    30.000000    45.000000           78.567014   \n",
       "\n",
       "       Metastatic Sites  \n",
       "count       1893.000000  \n",
       "mean           1.021659  \n",
       "std            1.137974  \n",
       "min            0.000000  \n",
       "25%            0.000000  \n",
       "50%            1.000000  \n",
       "75%            2.000000  \n",
       "max            4.000000  "
      ]
     },
     "execution_count": 25,
     "metadata": {},
     "output_type": "execute_result"
    }
   ],
   "source": [
    "# Dependencies and Setup\n",
    "import matplotlib.pyplot as plt\n",
    "import pandas as pd\n",
    "import scipy.stats as sts\n",
    "import numpy as np\n",
    "from scipy.stats import sem\n",
    "from scipy.stats import linregress\n",
    "\n",
    "# Study data files\n",
    "mouse_metadata_path = \"../Pymaceuticals_data_directory/Mouse_metadata.csv\"\n",
    "study_results_path = \"../Pymaceuticals_data_directory/Study_results.csv\"\n",
    "\n",
    "# Read the mouse data and the study results\n",
    "mouse_metadata = pd.read_csv(mouse_metadata_path)\n",
    "study_results = pd.read_csv(study_results_path)\n",
    "\n",
    "# Combine the data into a single dataset\n",
    "df = pd.merge(mouse_metadata, study_results, on=\"Mouse ID\", how=\"inner\")\n",
    "\n",
    "# Display the data table for preview\n",
    "df.describe()"
   ]
  },
  {
   "cell_type": "code",
   "execution_count": 2,
   "metadata": {},
   "outputs": [
    {
     "data": {
      "text/html": [
       "<div>\n",
       "<style scoped>\n",
       "    .dataframe tbody tr th:only-of-type {\n",
       "        vertical-align: middle;\n",
       "    }\n",
       "\n",
       "    .dataframe tbody tr th {\n",
       "        vertical-align: top;\n",
       "    }\n",
       "\n",
       "    .dataframe thead th {\n",
       "        text-align: right;\n",
       "    }\n",
       "</style>\n",
       "<table border=\"1\" class=\"dataframe\">\n",
       "  <thead>\n",
       "    <tr style=\"text-align: right;\">\n",
       "      <th></th>\n",
       "      <th>Mouse ID</th>\n",
       "      <th>Drug Regimen</th>\n",
       "      <th>Sex</th>\n",
       "      <th>Age_months</th>\n",
       "      <th>Weight (g)</th>\n",
       "      <th>Timepoint</th>\n",
       "      <th>Tumor Volume (mm3)</th>\n",
       "      <th>Metastatic Sites</th>\n",
       "    </tr>\n",
       "  </thead>\n",
       "  <tbody>\n",
       "    <tr>\n",
       "      <th>909</th>\n",
       "      <td>g989</td>\n",
       "      <td>Propriva</td>\n",
       "      <td>Female</td>\n",
       "      <td>21</td>\n",
       "      <td>26</td>\n",
       "      <td>0</td>\n",
       "      <td>45.000000</td>\n",
       "      <td>0</td>\n",
       "    </tr>\n",
       "    <tr>\n",
       "      <th>911</th>\n",
       "      <td>g989</td>\n",
       "      <td>Propriva</td>\n",
       "      <td>Female</td>\n",
       "      <td>21</td>\n",
       "      <td>26</td>\n",
       "      <td>5</td>\n",
       "      <td>47.570392</td>\n",
       "      <td>0</td>\n",
       "    </tr>\n",
       "    <tr>\n",
       "      <th>913</th>\n",
       "      <td>g989</td>\n",
       "      <td>Propriva</td>\n",
       "      <td>Female</td>\n",
       "      <td>21</td>\n",
       "      <td>26</td>\n",
       "      <td>10</td>\n",
       "      <td>49.880528</td>\n",
       "      <td>0</td>\n",
       "    </tr>\n",
       "    <tr>\n",
       "      <th>915</th>\n",
       "      <td>g989</td>\n",
       "      <td>Propriva</td>\n",
       "      <td>Female</td>\n",
       "      <td>21</td>\n",
       "      <td>26</td>\n",
       "      <td>15</td>\n",
       "      <td>53.442020</td>\n",
       "      <td>0</td>\n",
       "    </tr>\n",
       "    <tr>\n",
       "      <th>917</th>\n",
       "      <td>g989</td>\n",
       "      <td>Propriva</td>\n",
       "      <td>Female</td>\n",
       "      <td>21</td>\n",
       "      <td>26</td>\n",
       "      <td>20</td>\n",
       "      <td>54.657650</td>\n",
       "      <td>1</td>\n",
       "    </tr>\n",
       "  </tbody>\n",
       "</table>\n",
       "</div>"
      ],
      "text/plain": [
       "    Mouse ID Drug Regimen     Sex  Age_months  Weight (g)  Timepoint  \\\n",
       "909     g989     Propriva  Female          21          26          0   \n",
       "911     g989     Propriva  Female          21          26          5   \n",
       "913     g989     Propriva  Female          21          26         10   \n",
       "915     g989     Propriva  Female          21          26         15   \n",
       "917     g989     Propriva  Female          21          26         20   \n",
       "\n",
       "     Tumor Volume (mm3)  Metastatic Sites  \n",
       "909           45.000000                 0  \n",
       "911           47.570392                 0  \n",
       "913           49.880528                 0  \n",
       "915           53.442020                 0  \n",
       "917           54.657650                 1  "
      ]
     },
     "execution_count": 2,
     "metadata": {},
     "output_type": "execute_result"
    }
   ],
   "source": [
    "dup_mice = df.loc[df.duplicated([\"Mouse ID\", \"Timepoint\"])]\n",
    "dup_mice"
   ]
  },
  {
   "cell_type": "code",
   "execution_count": 3,
   "metadata": {},
   "outputs": [
    {
     "name": "stdout",
     "output_type": "stream",
     "text": [
      "There are a total of 248 mice in this dataset\n"
     ]
    }
   ],
   "source": [
    "#Check the data for any mouse ID with duplicate time points and remove any data associated with that mouse ID.\n",
    "df = df.loc[df[\"Mouse ID\"] != \"g989\"]\n",
    "\n",
    "#Total number of mice\n",
    "total_mice = df[\"Mouse ID\"].nunique()\n",
    "print(f\"There are a total of {total_mice} mice in this dataset\")"
   ]
  },
  {
   "cell_type": "markdown",
   "metadata": {},
   "source": [
    "## Summary Statistics"
   ]
  },
  {
   "cell_type": "code",
   "execution_count": 4,
   "metadata": {},
   "outputs": [
    {
     "data": {
      "text/html": [
       "<div>\n",
       "<style scoped>\n",
       "    .dataframe tbody tr th:only-of-type {\n",
       "        vertical-align: middle;\n",
       "    }\n",
       "\n",
       "    .dataframe tbody tr th {\n",
       "        vertical-align: top;\n",
       "    }\n",
       "\n",
       "    .dataframe thead th {\n",
       "        text-align: right;\n",
       "    }\n",
       "</style>\n",
       "<table border=\"1\" class=\"dataframe\">\n",
       "  <thead>\n",
       "    <tr style=\"text-align: right;\">\n",
       "      <th></th>\n",
       "      <th>Drug Regimen</th>\n",
       "      <th>Mean</th>\n",
       "      <th>Median</th>\n",
       "      <th>Variance</th>\n",
       "      <th>Std Dev</th>\n",
       "      <th>SEM</th>\n",
       "    </tr>\n",
       "  </thead>\n",
       "  <tbody>\n",
       "    <tr>\n",
       "      <th>0</th>\n",
       "      <td>Capomulin</td>\n",
       "      <td>40.68</td>\n",
       "      <td>41.56</td>\n",
       "      <td>24.95</td>\n",
       "      <td>4.99</td>\n",
       "      <td>0.33</td>\n",
       "    </tr>\n",
       "    <tr>\n",
       "      <th>1</th>\n",
       "      <td>Ceftamin</td>\n",
       "      <td>52.59</td>\n",
       "      <td>51.78</td>\n",
       "      <td>39.29</td>\n",
       "      <td>6.27</td>\n",
       "      <td>0.47</td>\n",
       "    </tr>\n",
       "    <tr>\n",
       "      <th>2</th>\n",
       "      <td>Infubinol</td>\n",
       "      <td>52.88</td>\n",
       "      <td>51.82</td>\n",
       "      <td>43.13</td>\n",
       "      <td>6.57</td>\n",
       "      <td>0.49</td>\n",
       "    </tr>\n",
       "    <tr>\n",
       "      <th>3</th>\n",
       "      <td>Ketapril</td>\n",
       "      <td>55.24</td>\n",
       "      <td>53.70</td>\n",
       "      <td>68.55</td>\n",
       "      <td>8.28</td>\n",
       "      <td>0.60</td>\n",
       "    </tr>\n",
       "    <tr>\n",
       "      <th>4</th>\n",
       "      <td>Naftisol</td>\n",
       "      <td>54.33</td>\n",
       "      <td>52.51</td>\n",
       "      <td>66.17</td>\n",
       "      <td>8.13</td>\n",
       "      <td>0.60</td>\n",
       "    </tr>\n",
       "    <tr>\n",
       "      <th>5</th>\n",
       "      <td>Placebo</td>\n",
       "      <td>54.03</td>\n",
       "      <td>52.29</td>\n",
       "      <td>61.17</td>\n",
       "      <td>7.82</td>\n",
       "      <td>0.58</td>\n",
       "    </tr>\n",
       "    <tr>\n",
       "      <th>6</th>\n",
       "      <td>Propriva</td>\n",
       "      <td>52.32</td>\n",
       "      <td>50.45</td>\n",
       "      <td>43.85</td>\n",
       "      <td>6.62</td>\n",
       "      <td>0.54</td>\n",
       "    </tr>\n",
       "    <tr>\n",
       "      <th>7</th>\n",
       "      <td>Ramicane</td>\n",
       "      <td>40.22</td>\n",
       "      <td>40.67</td>\n",
       "      <td>23.49</td>\n",
       "      <td>4.85</td>\n",
       "      <td>0.32</td>\n",
       "    </tr>\n",
       "    <tr>\n",
       "      <th>8</th>\n",
       "      <td>Stelasyn</td>\n",
       "      <td>54.23</td>\n",
       "      <td>52.43</td>\n",
       "      <td>59.45</td>\n",
       "      <td>7.71</td>\n",
       "      <td>0.57</td>\n",
       "    </tr>\n",
       "    <tr>\n",
       "      <th>9</th>\n",
       "      <td>Zoniferol</td>\n",
       "      <td>53.24</td>\n",
       "      <td>51.82</td>\n",
       "      <td>48.53</td>\n",
       "      <td>6.97</td>\n",
       "      <td>0.52</td>\n",
       "    </tr>\n",
       "  </tbody>\n",
       "</table>\n",
       "</div>"
      ],
      "text/plain": [
       "  Drug Regimen   Mean  Median  Variance  Std Dev   SEM\n",
       "0    Capomulin  40.68   41.56     24.95     4.99  0.33\n",
       "1     Ceftamin  52.59   51.78     39.29     6.27  0.47\n",
       "2    Infubinol  52.88   51.82     43.13     6.57  0.49\n",
       "3     Ketapril  55.24   53.70     68.55     8.28  0.60\n",
       "4     Naftisol  54.33   52.51     66.17     8.13  0.60\n",
       "5      Placebo  54.03   52.29     61.17     7.82  0.58\n",
       "6     Propriva  52.32   50.45     43.85     6.62  0.54\n",
       "7     Ramicane  40.22   40.67     23.49     4.85  0.32\n",
       "8     Stelasyn  54.23   52.43     59.45     7.71  0.57\n",
       "9    Zoniferol  53.24   51.82     48.53     6.97  0.52"
      ]
     },
     "execution_count": 4,
     "metadata": {},
     "output_type": "execute_result"
    }
   ],
   "source": [
    "# Generate a summary statistics table of mean, median, variance, standard deviation, and SEM of the tumor volume for each regimen\n",
    "rx_df = df.groupby([\"Drug Regimen\"])\n",
    "tum_mean = round(rx_df[\"Tumor Volume (mm3)\"].mean(),2)\n",
    "tum_median = round(rx_df[\"Tumor Volume (mm3)\"].median(),2)\n",
    "tum_var = round(rx_df[\"Tumor Volume (mm3)\"].var(),2)\n",
    "tum_sd = round(rx_df[\"Tumor Volume (mm3)\"].std(),2)\n",
    "tum_sem = round(rx_df[\"Tumor Volume (mm3)\"].sem(),2)\n",
    "\n",
    "tumor_summary_df = pd.DataFrame({\"Mean\": tum_mean, \n",
    "                            \"Median\":tum_median,\n",
    "                            \"Variance\": tum_var,\n",
    "                            \"Std Dev\": tum_sd,\n",
    "                            \"SEM\": tum_sem\n",
    "                           }).reset_index()\n",
    "tumor_summary_df"
   ]
  },
  {
   "cell_type": "markdown",
   "metadata": {},
   "source": [
    "## Bar and Pie Charts"
   ]
  },
  {
   "cell_type": "code",
   "execution_count": 37,
   "metadata": {
    "scrolled": false
   },
   "outputs": [
    {
     "data": {
      "image/png": "[encoded data removed]",
      "text/plain": [
       "<Figure size 432x288 with 1 Axes>"
      ]
     },
     "metadata": {
      "needs_background": "light"
     },
     "output_type": "display_data"
    }
   ],
   "source": [
    "#Using rx_df grouped by Drug Regimen, count number of mice per treatment\n",
    "df2 = df.groupby(['Drug Regimen','Mouse ID']).count().reset_index()\n",
    "mice_y= df2[\"Drug Regimen\"].value_counts()\n",
    "rx_x = tumor_summary_df[\"Drug Regimen\"]\n",
    "\n",
    "\n",
    "#Add labels and show\n",
    "plt.xlabel(\"Drug Regimen\")\n",
    "plt.ylabel(\"Number of Mice\")\n",
    "plt.suptitle(\"Mice per Drug Treatment\",\n",
    "            fontweight=\"bold\")\n",
    "plt.xticks(rotation=\"45\")\n",
    "\n",
    "#Create bar graph using pyplot\n",
    "plt.bar(rx_x, mice_y, color=(\"purple\", \"blue\", \"teal\", \"violet\", \"gold\"))\n",
    "\n",
    "plt.show()"
   ]
  },
  {
   "cell_type": "code",
   "execution_count": 36,
   "metadata": {},
   "outputs": [
    {
     "data": {
      "image/png": "[encoded data removed]",
      "text/plain": [
       "<Figure size 432x288 with 1 Axes>"
      ]
     },
     "metadata": {
      "needs_background": "light"
     },
     "output_type": "display_data"
    }
   ],
   "source": [
    "#Using datpoints per Drug Treatment\n",
    "mice_y= df[\"Drug Regimen\"].value_counts()\n",
    "rx_x = tumor_summary_df[\"Drug Regimen\"]\n",
    "\n",
    "\n",
    "#Create bar graph using pyplot\n",
    "plt.bar(rx_x, mice_y, color=(\"purple\", \"blue\", \"teal\", \"violet\", \"gold\"))\n",
    "\n",
    "#Add labels and show\n",
    "plt.xlabel(\"Drug Regimen\")\n",
    "plt.ylabel(\"Number of Data Points\")\n",
    "plt.suptitle(\"Data Points per Drug Treatment\",\n",
    "            fontweight=\"bold\")\n",
    "plt.xticks(rotation=\"45\")\n",
    "\n",
    "plt.show()"
   ]
  },
  {
   "cell_type": "code",
   "execution_count": 43,
   "metadata": {
    "scrolled": true
   },
   "outputs": [
    {
     "name": "stderr",
     "output_type": "stream",
     "text": [
      "/Users/laurenstein/opt/anaconda3/lib/python3.7/site-packages/ipykernel_launcher.py:3: FutureWarning: Indexing with multiple keys (implicitly converted to a tuple of keys) will be deprecated, use a list instead.\n",
      "  This is separate from the ipykernel package so we can avoid doing imports until\n"
     ]
    },
    {
     "data": {
      "image/png": "[encoded data removed]",
      "text/plain": [
       "<Figure size 1440x288 with 1 Axes>"
      ]
     },
     "metadata": {},
     "output_type": "display_data"
    }
   ],
   "source": [
    "# Generate a pie plot showing the distribution of female versus male mice using pandas\n",
    "#Create a group by object\n",
    "mouse_id = df.groupby(\"Mouse ID\")[\"Mouse ID\", \"Sex\"].max()\n",
    "\n",
    "#Perform function for calculation of interest\n",
    "count_sex = mouse_id[\"Sex\"].value_counts()\n",
    "\n",
    "count_sex.plot(kind='pie', \n",
    "           autopct=\"%1.1f%%\", \n",
    "           shadow=True, \n",
    "           startangle=140, \n",
    "           figsize=(20,4))\n",
    "\n",
    "#Add title\n",
    "plt.suptitle(\"Mouse Phenotypes: Sex\",\n",
    "            fontweight=\"bold\")\n",
    "plt.show()"
   ]
  },
  {
   "cell_type": "code",
   "execution_count": 44,
   "metadata": {},
   "outputs": [
    {
     "data": {
      "image/png": "[encoded data removed]",
      "text/plain": [
       "<Figure size 432x288 with 1 Axes>"
      ]
     },
     "metadata": {},
     "output_type": "display_data"
    }
   ],
   "source": [
    "# Generate a pie plot showing the distribution of female versus male mice using pyplot\n",
    "labels = [\"Male\", \"Female\"]\n",
    "plt.pie(count_sex,\n",
    "        labels = labels,\n",
    "        autopct=\"%1.1f%%\", \n",
    "        shadow=True, \n",
    "        startangle=140)\n",
    "\n",
    "#Add Title\n",
    "plt.suptitle(\"Mouse Phenotypes: Sex\",\n",
    "            fontweight=\"bold\")\n",
    "plt.show()"
   ]
  },
  {
   "cell_type": "markdown",
   "metadata": {},
   "source": [
    "## Quartiles, Outliers and Boxplots"
   ]
  },
  {
   "cell_type": "code",
   "execution_count": 45,
   "metadata": {},
   "outputs": [],
   "source": [
    "#Calculate the final tumor volume of each mouse across four of the treatment regimens:  \n",
    "# Capomulin, Ramicane, Infubinol, and Ceftamin\n",
    "\n",
    "# Start by getting the last (greatest) timepoint for each mouse\n",
    "df.sort_values(by=[\"Timepoint\"], ascending= False)\n",
    "\n",
    "#Drop duplicates\n",
    "df2 = df.drop_duplicates(subset=\"Mouse ID\", keep=\"last\")"
   ]
  },
  {
   "cell_type": "code",
   "execution_count": 46,
   "metadata": {
    "scrolled": false
   },
   "outputs": [
    {
     "name": "stdout",
     "output_type": "stream",
     "text": [
      "Tumor Volume Quartile Range For: Capomulin\n",
      "===============================================\n",
      "Lower Quartile: 32.37735684\n",
      "Upper Quartile: 40.1592203\n",
      "IQR: 7.781863460000004\n",
      "Median: 38.125164399999996\n",
      " \n",
      "Tumor Volume Quartile Range For: Ramicane\n",
      "===============================================\n",
      "Lower Quartile: 31.56046955\n",
      "Upper Quartile: 40.65900627\n",
      "IQR: 9.098536719999998\n",
      "Median: 36.56165229\n",
      " \n",
      "Tumor Volume Quartile Range For: Infubinol\n",
      "===============================================\n",
      "Lower Quartile: 54.04860769\n",
      "Upper Quartile: 65.52574285\n",
      "IQR: 11.477135160000003\n",
      "Median: 60.16518046\n",
      " \n",
      "Tumor Volume Quartile Range For: Ceftamin\n",
      "===============================================\n",
      "Lower Quartile: 48.72207785\n",
      "Upper Quartile: 64.29983003\n",
      "IQR: 15.577752179999997\n",
      "Median: 59.85195552\n",
      " \n"
     ]
    }
   ],
   "source": [
    "# Put treatments into a list for for loop (and later for plot labels)\n",
    "drugs = [\"Capomulin\", \"Ramicane\", \"Infubinol\", \"Ceftamin\"]\n",
    "\n",
    "# Create empty list to fill with tumor vol data (for plotting)\n",
    "tumor_list = []\n",
    "\n",
    "# Locate the rows which contain mice on each drug and get the tumor volumes\n",
    "for drug in drugs:\n",
    "    tum_vol = df2.loc[df2[\"Drug Regimen\"]==drug][\"Tumor Volume (mm3)\"]\n",
    "    tumor_list.append(tum_vol)\n",
    "\n",
    "    # Calculate the IQR and quantitatively determine if there are any potential outliers. \n",
    "    quartiles = tum_vol.quantile([0.25,0.5,0.75])\n",
    "    lowerq = quartiles[0.25]\n",
    "    upperq = quartiles[0.75]\n",
    "    iqr = upperq - lowerq\n",
    "    \n",
    "    print(f\"Tumor Volume Quartile Range For: {drug}\")\n",
    "    print(\"===============================================\")\n",
    "    print(f\"Lower Quartile: {lowerq}\")\n",
    "    print(f\"Upper Quartile: {upperq}\")\n",
    "    print(f\"IQR: {iqr}\")\n",
    "    print(f\"Median: {quartiles[0.5]}\")\n",
    "    print(\" \")"
   ]
  },
  {
   "cell_type": "code",
   "execution_count": 48,
   "metadata": {},
   "outputs": [
    {
     "data": {
      "image/png": "[encoded data removed]",
      "text/plain": [
       "<Figure size 432x288 with 1 Axes>"
      ]
     },
     "metadata": {
      "needs_background": "light"
     },
     "output_type": "display_data"
    }
   ],
   "source": [
    "# Generate a box plot of the final tumor volume of each mouse across four regimens of interest\n",
    "pink_circle = dict(markerfacecolor='magenta', marker='o')\n",
    "fig1, ax1 = plt.subplots()\n",
    "\n",
    "ax1.set_title(\"Tumor Volume Distribution Across Drug Regimens\")\n",
    "ax1.boxplot(tumor_list, \n",
    "            notch=True, \n",
    "            flierprops=pink_circle)\n",
    "\n",
    "plt.xticks([1, 2, 3, 4], [\"Capomulin\", \"Ramicane\", \"Infubinol\", \"Ceftamin\"])\n",
    "plt.ylabel(\"Tumor Volume (mm3)\")\n",
    "plt.show()"
   ]
  },
  {
   "cell_type": "markdown",
   "metadata": {},
   "source": [
    "## Line and Scatter Plots"
   ]
  },
  {
   "cell_type": "code",
   "execution_count": 59,
   "metadata": {},
   "outputs": [
    {
     "data": {
      "image/png": "[encoded data removed]",
      "text/plain": [
       "<Figure size 432x288 with 1 Axes>"
      ]
     },
     "metadata": {
      "needs_background": "light"
     },
     "output_type": "display_data"
    }
   ],
   "source": [
    "# Generate a line plot of time point versus tumor volume for a mouse treated with Capomulin\n",
    "cap_df = df.loc[df[\"Drug Regimen\"] == \"Capomulin\"]\n",
    "y_axis = cap_df.groupby(\"Timepoint\").mean()[\"Tumor Volume (mm3)\"]\n",
    "x_axis = cap_df.groupby(\"Timepoint\").count().reset_index()[\"Timepoint\"]\n",
    "\n",
    "plt.xlabel(\"Timepoint (Days)\")\n",
    "plt.ylabel(\"Mean Tumor Volume (mm3)\")\n",
    "plt.suptitle(\"Effect of Capomulin on Tumor Size\", \n",
    "             fontsize = 14,\n",
    "            fontweight=\"bold\")\n",
    "\n",
    "plt.plot(x_axis, y_axis, marker = \"o\", color = \"green\")\n",
    "plt.show()"
   ]
  },
  {
   "cell_type": "code",
   "execution_count": 54,
   "metadata": {
    "scrolled": false
   },
   "outputs": [
    {
     "name": "stdout",
     "output_type": "stream",
     "text": [
      "Mouse IDs treated with Capomulin: ['s185', 'x401', 'm601', 'f966', 'u364', 'y793', 'r554', 'm957', 't565', 'i738', 'w914', 'g288', 'l897', 'b742', 'b128', 'j246', 'j119', 'w150', 'v923', 'g316', 's710', 'l509', 'r944', 'i557', 'r157']\n",
      "==========================================================================================\n",
      "Enter the Capomulin-treated Mouse ID to view tumor volume across treatment: y793\n"
     ]
    }
   ],
   "source": [
    "#Create subset of data for Capomulin only\n",
    "cap_df = df2.loc[df2[\"Drug Regimen\"] == \"Capomulin\"]\n",
    "cap_mouseids = [mouse for mouse in cap_df[\"Mouse ID\"]]\n",
    "\n",
    "# Select a mouse that was treated with Capomulin and generate a line plot of time point versus tumor volume for that mouse.\n",
    "print(f\"Mouse IDs treated with Capomulin: {cap_mouseids}\")\n",
    "print(\"==========================================================================================\")\n",
    "mouse_id = input(\"Enter the Capomulin-treated Mouse ID to view tumor volume across treatment: \")"
   ]
  },
  {
   "cell_type": "code",
   "execution_count": 57,
   "metadata": {},
   "outputs": [
    {
     "data": {
      "image/png": "[encoded data removed]",
      "text/plain": [
       "<Figure size 432x288 with 1 Axes>"
      ]
     },
     "metadata": {
      "needs_background": "light"
     },
     "output_type": "display_data"
    }
   ],
   "source": [
    "#Create series to look for Mouse ID and return tumor volume across treatment\n",
    "selected_mouse = df.loc[df[\"Mouse ID\"] == mouse_id][[\"Timepoint\", \"Tumor Volume (mm3)\"]]\n",
    "x_axis = selected_mouse[\"Timepoint\"]\n",
    "y_axis = selected_mouse[\"Tumor Volume (mm3)\"]\n",
    "\n",
    "#Pyplot line plot\n",
    "plt.plot(x_axis, y_axis, color=\"green\", label = \"Tumor Volume\", marker=\"o\")\n",
    "\n",
    "#Graph formatting\n",
    "plt.suptitle(\"Mouse \" + mouse_id + \": Capomulin Response\",\n",
    "             fontsize = 14,\n",
    "            fontweight=\"bold\")\n",
    "\n",
    "plt.xlabel(\"Timepoint\")\n",
    "plt.ylabel(\"Tumor Volume(mm3)\")\n",
    "plt.ylim(0,(y_axis.max()+5))\n",
    "plt.xlim(0-2, (x_axis.max()+2))\n",
    "plt.legend(loc=\"lower left\")\n",
    "\n",
    "plt.show()"
   ]
  },
  {
   "cell_type": "code",
   "execution_count": 17,
   "metadata": {},
   "outputs": [
    {
     "data": {
      "image/png": "[encoded data removed]",
      "text/plain": [
       "<Figure size 432x288 with 1 Axes>"
      ]
     },
     "metadata": {
      "needs_background": "light"
     },
     "output_type": "display_data"
    }
   ],
   "source": [
    "# Generate a scatter plot of mouse weight versus average tumor volume for the Capomulin regimen\n",
    "mouse_weight = cap_df.groupby(\"Mouse ID\").mean()[\"Weight (g)\"]\n",
    "tumor_volume = cap_df.groupby(\"Mouse ID\").mean()[\"Tumor Volume (mm3)\"]\n",
    "\n",
    "#Plot graph\n",
    "plt.scatter(mouse_weight, \n",
    "            tumor_volume, \n",
    "            marker=\"o\", \n",
    "            facecolors=\"blue\", \n",
    "            edgecolors=\"black\", \n",
    "            s=80, alpha=0.75)\n",
    "\n",
    "#Graph formatting\n",
    "plt.xlabel(\"Average Mouse Weight (g)\")\n",
    "plt.ylabel(\"Avearge Tumor Volume (mm3)\")\n",
    "plt.title(\"Relationship between Mouse Weight and Tumor Volume\")\n",
    "\n",
    "plt.show()"
   ]
  },
  {
   "cell_type": "markdown",
   "metadata": {},
   "source": [
    "## Correlation and Regression"
   ]
  },
  {
   "cell_type": "code",
   "execution_count": 18,
   "metadata": {},
   "outputs": [
    {
     "name": "stdout",
     "output_type": "stream",
     "text": [
      "The correlation between mouse body weight and tumor volume is 0.88\n"
     ]
    }
   ],
   "source": [
    "correlation = sts.pearsonr(mouse_weight, tumor_volume)\n",
    "print(f\"The correlation between mouse body weight and tumor volume is {round(correlation[0],2)}\")"
   ]
  },
  {
   "cell_type": "code",
   "execution_count": 22,
   "metadata": {},
   "outputs": [
    {
     "name": "stdout",
     "output_type": "stream",
     "text": [
      "The r-squared is: 0.7686134812139006\n"
     ]
    },
    {
     "data": {
      "image/png": "[encoded data removed]",
      "text/plain": [
       "<Figure size 432x288 with 1 Axes>"
      ]
     },
     "metadata": {
      "needs_background": "light"
     },
     "output_type": "display_data"
    }
   ],
   "source": [
    "mouse_weight = cap_df.groupby(\"Mouse ID\").mean()[\"Weight (g)\"]\n",
    "tumor_volume = cap_df.groupby(\"Mouse ID\").mean()[\"Tumor Volume (mm3)\"]\n",
    "\n",
    "\n",
    "#slope calculations\n",
    "(slope, intercept, rvalue, pvalue, stderr) = linregress(mouse_weight, tumor_volume)\n",
    "regress_values = mouse_weight * slope + intercept\n",
    "line_eq = \"y = \" + str(round(slope,2)) + \"x + \" + str(round(intercept,2))\n",
    "\n",
    "\n",
    "plt.text(22,25, line_eq, \n",
    "         style='italic',\n",
    "         bbox={'facecolor': 'red', 'alpha': 0.5, 'pad': 10})\n",
    "\n",
    "plt.scatter(mouse_weight, tumor_volume, marker=\"o\", facecolors=\"blue\", edgecolors=\"black\", s=80, alpha=0.75)\n",
    "plt.plot(mouse_weight, regress_values, \"r-\")\n",
    "plt.annotate(line_eq,(8,8),fontsize=15,color=\"green\")\n",
    "\n",
    "plt.xlabel(\"Average Mouse Weight (g)\")\n",
    "plt.ylabel(\"Avearge Tumor Volume (mm3)\")\n",
    "plt.title(\"Relationship Between Mouse Weight and Tumor Volume\")\n",
    "\n",
    "\n",
    "print(f\"The r-squared is: {rvalue**2}\")\n",
    "plt.show()"
   ]
  }
 ],
 "metadata": {
  "anaconda-cloud": {},
  "kernelspec": {
   "display_name": "PythonData",
   "language": "python",
   "name": "pythondata"
  },
  "language_info": {
   "codemirror_mode": {
    "name": "ipython",
    "version": 3
   },
   "file_extension": ".py",
   "mimetype": "text/x-python",
   "name": "python",
   "nbconvert_exporter": "python",
   "pygments_lexer": "ipython3",
   "version": "3.7.6"
  }
 },
 "nbformat": 4,
 "nbformat_minor": 2
}
